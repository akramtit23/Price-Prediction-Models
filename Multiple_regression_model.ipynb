{
  "nbformat": 4,
  "nbformat_minor": 0,
  "metadata": {
    "colab": {
      "provenance": [],
      "gpuType": "T4",
      "authorship_tag": "ABX9TyOVbSyJY3Q2Co9LIobQFeoY",
      "include_colab_link": true
    },
    "kernelspec": {
      "name": "python3",
      "display_name": "Python 3"
    },
    "language_info": {
      "name": "python"
    },
    "accelerator": "GPU"
  },
  "cells": [
    {
      "cell_type": "markdown",
      "metadata": {
        "id": "view-in-github",
        "colab_type": "text"
      },
      "source": [
        "<a href=\"https://colab.research.google.com/github/akramtit23/Price-Prediction-Models/blob/main/Multiple_regression_model.ipynb\" target=\"_parent\"><img src=\"https://colab.research.google.com/assets/colab-badge.svg\" alt=\"Open In Colab\"/></a>"
      ]
    },
    {
      "cell_type": "code",
      "execution_count": 1,
      "metadata": {
        "id": "FTFRjuj9VpVU"
      },
      "outputs": [],
      "source": [
        "import pandas as pd\n",
        "import numpy as np\n",
        "import matplotlib.pyplot as plt\n",
        "import seaborn as sns\n",
        "from sklearn.model_selection import train_test_split\n",
        "from sklearn.preprocessing import LabelEncoder, StandardScaler\n",
        "from sklearn.ensemble import RandomForestRegressor\n",
        "from sklearn.metrics import mean_absolute_error, mean_squared_error, r2_score"
      ]
    },
    {
      "cell_type": "code",
      "source": [
        "from google.colab import drive\n",
        "drive.mount('/content/drive')"
      ],
      "metadata": {
        "colab": {
          "base_uri": "https://localhost:8080/"
        },
        "id": "hzrJSwn2WdOe",
        "outputId": "4c480486-05c8-4ed5-f53a-00bd859c786a"
      },
      "execution_count": 5,
      "outputs": [
        {
          "output_type": "stream",
          "name": "stdout",
          "text": [
            "Mounted at /content/drive\n"
          ]
        }
      ]
    },
    {
      "cell_type": "code",
      "source": [
        "# Load the dataset\n",
        "data = pd.read_csv('/content/drive/MyDrive/flight dataset /Clean_Dataset.csv')\n",
        "\n",
        "# Display the first few rows\n",
        "print(data.head())\n"
      ],
      "metadata": {
        "colab": {
          "base_uri": "https://localhost:8080/"
        },
        "id": "ch-r85ihWJG0",
        "outputId": "8f680aff-9d1b-414a-9d1c-2611ccf4e02f"
      },
      "execution_count": 6,
      "outputs": [
        {
          "output_type": "stream",
          "name": "stdout",
          "text": [
            "   Unnamed: 0   airline   flight source_city departure_time stops  \\\n",
            "0           0  SpiceJet  SG-8709       Delhi        Evening  zero   \n",
            "1           1  SpiceJet  SG-8157       Delhi  Early_Morning  zero   \n",
            "2           2   AirAsia   I5-764       Delhi  Early_Morning  zero   \n",
            "3           3   Vistara   UK-995       Delhi        Morning  zero   \n",
            "4           4   Vistara   UK-963       Delhi        Morning  zero   \n",
            "\n",
            "    arrival_time destination_city    class  duration  days_left  price  \n",
            "0          Night           Mumbai  Economy      2.17          1   5953  \n",
            "1        Morning           Mumbai  Economy      2.33          1   5953  \n",
            "2  Early_Morning           Mumbai  Economy      2.17          1   5956  \n",
            "3      Afternoon           Mumbai  Economy      2.25          1   5955  \n",
            "4        Morning           Mumbai  Economy      2.33          1   5955  \n"
          ]
        }
      ]
    },
    {
      "cell_type": "code",
      "source": [
        "print(data.isnull().sum())"
      ],
      "metadata": {
        "colab": {
          "base_uri": "https://localhost:8080/"
        },
        "id": "f5PvdhKVXqUW",
        "outputId": "84d8e7a3-defb-4042-b40f-1b1c8321c86b"
      },
      "execution_count": 7,
      "outputs": [
        {
          "output_type": "stream",
          "name": "stdout",
          "text": [
            "Unnamed: 0          0\n",
            "airline             0\n",
            "flight              0\n",
            "source_city         0\n",
            "departure_time      0\n",
            "stops               0\n",
            "arrival_time        0\n",
            "destination_city    0\n",
            "class               0\n",
            "duration            0\n",
            "days_left           0\n",
            "price               0\n",
            "dtype: int64\n"
          ]
        }
      ]
    },
    {
      "cell_type": "code",
      "source": [
        "print(data.describe())"
      ],
      "metadata": {
        "colab": {
          "base_uri": "https://localhost:8080/"
        },
        "id": "gsMJGEYAXwmo",
        "outputId": "653f0b2c-af2c-4576-80d9-cbfa917215fc"
      },
      "execution_count": 8,
      "outputs": [
        {
          "output_type": "stream",
          "name": "stdout",
          "text": [
            "          Unnamed: 0       duration      days_left          price\n",
            "count  300153.000000  300153.000000  300153.000000  300153.000000\n",
            "mean   150076.000000      12.221021      26.004751   20889.660523\n",
            "std     86646.852011       7.191997      13.561004   22697.767366\n",
            "min         0.000000       0.830000       1.000000    1105.000000\n",
            "25%     75038.000000       6.830000      15.000000    4783.000000\n",
            "50%    150076.000000      11.250000      26.000000    7425.000000\n",
            "75%    225114.000000      16.170000      38.000000   42521.000000\n",
            "max    300152.000000      49.830000      49.000000  123071.000000\n"
          ]
        }
      ]
    },
    {
      "cell_type": "code",
      "source": [
        "sns.histplot(data['price'], kde=True)\n",
        "plt.title('Price Distribution')\n",
        "plt.show()"
      ],
      "metadata": {
        "colab": {
          "base_uri": "https://localhost:8080/",
          "height": 472
        },
        "id": "SMPzJTmvX3g2",
        "outputId": "d2b6ba4c-4531-4280-eb31-35bf879f339f"
      },
      "execution_count": 10,
      "outputs": [
        {
          "output_type": "display_data",
          "data": {
            "text/plain": [
              "<Figure size 640x480 with 1 Axes>"
            ],
            "image/png": "[encoded data removed]"
          },
          "metadata": {}
        }
      ]
    },
    {
      "cell_type": "code",
      "source": [
        "def convert_to_minutes(duration):\n",
        "    if isinstance(duration, str):  # Check if duration is a string\n",
        "        hours, minutes = map(str, duration.split('h '))\n",
        "        minutes = minutes.replace('m','')\n",
        "        return int(hours) * 60 + int(minutes)\n",
        "    # Handle non-string values\n",
        "    elif isinstance(duration, (int, float)):\n",
        "        # Handle NaN (Not a Number)\n",
        "        if np.isnan(duration):\n",
        "            return np.nan\n",
        "        else:\n",
        "            # Assuming the numeric value represents total minutes. If not, further logic needed.\n",
        "            return int(duration)\n",
        "    else:\n",
        "        return np.nan  # Handle other unexpected data types"
      ],
      "metadata": {
        "id": "7W7OCZcUZlHF"
      },
      "execution_count": 15,
      "outputs": []
    },
    {
      "cell_type": "code",
      "source": [
        "# Display the first few rows\n",
        "print(data.head())"
      ],
      "metadata": {
        "colab": {
          "base_uri": "https://localhost:8080/"
        },
        "id": "17B1JajKaUHq",
        "outputId": "26198278-c3e1-4c1f-b382-c63b353cfd6c"
      },
      "execution_count": 16,
      "outputs": [
        {
          "output_type": "stream",
          "name": "stdout",
          "text": [
            "   Unnamed: 0   airline   flight source_city departure_time stops  \\\n",
            "0           0  SpiceJet  SG-8709       Delhi        Evening  zero   \n",
            "1           1  SpiceJet  SG-8157       Delhi  Early_Morning  zero   \n",
            "2           2   AirAsia   I5-764       Delhi  Early_Morning  zero   \n",
            "3           3   Vistara   UK-995       Delhi        Morning  zero   \n",
            "4           4   Vistara   UK-963       Delhi        Morning  zero   \n",
            "\n",
            "    arrival_time destination_city    class  duration  days_left  price  \n",
            "0          Night           Mumbai  Economy      2.17          1   5953  \n",
            "1        Morning           Mumbai  Economy      2.33          1   5953  \n",
            "2  Early_Morning           Mumbai  Economy      2.17          1   5956  \n",
            "3      Afternoon           Mumbai  Economy      2.25          1   5955  \n",
            "4        Morning           Mumbai  Economy      2.33          1   5955  \n"
          ]
        }
      ]
    },
    {
      "cell_type": "code",
      "source": [
        "# Assuming 'airline', 'source_city', 'departure_time', 'stops', 'arrival_time', 'destination_city', 'class' are categorical\n",
        "categorical_cols = ['airline', 'source_city', 'departure_time', 'stops', 'arrival_time', 'destination_city', 'class']\n",
        "\n",
        "# Create a LabelEncoder object\n",
        "label_encoder = LabelEncoder()\n",
        "\n",
        "# Iterate through the categorical columns and encode them\n",
        "for col in categorical_cols:\n",
        "    data[col] = label_encoder.fit_transform(data[col])\n",
        "\n",
        "# Convert 'duration' to minutes\n",
        "data['duration'] = data['duration']*60\n",
        "\n",
        "# Display the first few rows of the encoded dataset\n",
        "print(data.head())\n",
        "\n",
        "\n",
        "X = data.drop(['price', 'Unnamed: 0'], axis=1)  # Features\n",
        "y = data['price']  # Target variable\n",
        "\n",
        "# Split into train and test sets\n",
        "X_train, X_test, y_train, y_test = train_test_split(X, y, test_size=0.2, random_state=42)\n",
        "\n"
      ],
      "metadata": {
        "colab": {
          "base_uri": "https://localhost:8080/"
        },
        "id": "RN8ci751bp6o",
        "outputId": "99a73f53-ea2e-41ca-c6ee-f6661cab35ee"
      },
      "execution_count": 25,
      "outputs": [
        {
          "output_type": "stream",
          "name": "stdout",
          "text": [
            "   Unnamed: 0  airline   flight  source_city  departure_time  stops  \\\n",
            "0           0        4  SG-8709            2               2      2   \n",
            "1           1        4  SG-8157            2               1      2   \n",
            "2           2        0   I5-764            2               1      2   \n",
            "3           3        5   UK-995            2               4      2   \n",
            "4           4        5   UK-963            2               4      2   \n",
            "\n",
            "   arrival_time  destination_city  class  duration  days_left  price  \n",
            "0             5                 5      1      7200          1   5953  \n",
            "1             4                 5      1      7200          1   5953  \n",
            "2             1                 5      1      7200          1   5956  \n",
            "3             0                 5      1      7200          1   5955  \n",
            "4             4                 5      1      7200          1   5955  \n"
          ]
        }
      ]
    },
    {
      "cell_type": "code",
      "source": [
        "\n",
        "\n",
        "X = data.drop(['price', 'Unnamed: 0', 'flight'], axis=1)  # Features\n",
        "y = data['price']                # Target variable\n",
        "\n",
        "# Split into train and test sets\n",
        "X_train, X_test, y_train, y_test = train_test_split(X, y, test_size=0.2, random_state=42)"
      ],
      "metadata": {
        "id": "VqFj2vmXb5TP"
      },
      "execution_count": 27,
      "outputs": []
    },
    {
      "cell_type": "code",
      "source": [
        "print(data.head())"
      ],
      "metadata": {
        "colab": {
          "base_uri": "https://localhost:8080/"
        },
        "id": "x0kkaUX4cVPg",
        "outputId": "65238f60-d195-4322-c2f0-5927229714dc"
      },
      "execution_count": 28,
      "outputs": [
        {
          "output_type": "stream",
          "name": "stdout",
          "text": [
            "   Unnamed: 0  airline   flight  source_city  departure_time  stops  \\\n",
            "0           0        4  SG-8709            2               2      2   \n",
            "1           1        4  SG-8157            2               1      2   \n",
            "2           2        0   I5-764            2               1      2   \n",
            "3           3        5   UK-995            2               4      2   \n",
            "4           4        5   UK-963            2               4      2   \n",
            "\n",
            "   arrival_time  destination_city  class  duration  days_left  price  \n",
            "0             5                 5      1      7200          1   5953  \n",
            "1             4                 5      1      7200          1   5953  \n",
            "2             1                 5      1      7200          1   5956  \n",
            "3             0                 5      1      7200          1   5955  \n",
            "4             4                 5      1      7200          1   5955  \n"
          ]
        }
      ]
    },
    {
      "cell_type": "code",
      "source": [
        "scaler = StandardScaler()\n",
        "X_train = scaler.fit_transform(X_train)\n",
        "X_test = scaler.transform(X_test)"
      ],
      "metadata": {
        "id": "3xdrTpc5cNjI"
      },
      "execution_count": 29,
      "outputs": []
    },
    {
      "cell_type": "code",
      "source": [
        "# Initialize the model\n",
        "model = RandomForestRegressor(n_estimators=100, random_state=42)\n",
        "\n",
        "# Train the model\n",
        "model.fit(X_train, y_train)\n",
        "\n",
        "# Predict on test data\n",
        "y_pred = model.predict(X_test)\n"
      ],
      "metadata": {
        "id": "G8vhSraYcjDQ"
      },
      "execution_count": 30,
      "outputs": []
    },
    {
      "cell_type": "code",
      "source": [
        "# Calculate performance metrics\n",
        "mae = mean_absolute_error(y_test, y_pred)\n",
        "mse = mean_squared_error(y_test, y_pred)\n",
        "rmse = np.sqrt(mse)\n",
        "r2 = r2_score(y_test, y_pred)\n",
        "\n",
        "print(f\"Mean Absolute Error: {mae}\")\n",
        "print(f\"Mean Squared Error: {mse}\")\n",
        "print(f\"Root Mean Squared Error: {rmse}\")\n",
        "print(f\"R2 Score: {r2}\")\n"
      ],
      "metadata": {
        "colab": {
          "base_uri": "https://localhost:8080/"
        },
        "id": "qlrPXu_oc_Rk",
        "outputId": "b39f6083-ee73-4296-f7b7-532e6621e964"
      },
      "execution_count": 31,
      "outputs": [
        {
          "output_type": "stream",
          "name": "stdout",
          "text": [
            "Mean Absolute Error: 1514.2434731014048\n",
            "Mean Squared Error: 12803845.197120199\n",
            "Root Mean Squared Error: 3578.2461062817074\n",
            "R2 Score: 0.9751614248372219\n"
          ]
        }
      ]
    },
    {
      "cell_type": "code",
      "source": [
        "# Feature importance visualization\n",
        "importances = model.feature_importances_\n",
        "features = X.columns\n",
        "\n",
        "plt.figure(figsize=(10, 6))\n",
        "sns.barplot(x=importances, y=features)\n",
        "plt.title('Feature Importances')\n",
        "plt.show()\n"
      ],
      "metadata": {
        "colab": {
          "base_uri": "https://localhost:8080/",
          "height": 545
        },
        "id": "kTAu8MITdCNh",
        "outputId": "3908b6f2-a324-4804-a440-8c14b6db872f"
      },
      "execution_count": 32,
      "outputs": [
        {
          "output_type": "display_data",
          "data": {
            "text/plain": [
              "<Figure size 1000x600 with 1 Axes>"
            ],
            "image/png": "[encoded data removed]"
          },
          "metadata": {}
        }
      ]
    },
    {
      "cell_type": "code",
      "source": [
        "import joblib\n",
        "joblib.dump(model, 'flight_price_model.pkl')\n"
      ],
      "metadata": {
        "colab": {
          "base_uri": "https://localhost:8080/"
        },
        "id": "SeR3u2xedJTo",
        "outputId": "f1c6b30d-d1f9-44ee-f034-d981f0fecc30"
      },
      "execution_count": 33,
      "outputs": [
        {
          "output_type": "execute_result",
          "data": {
            "text/plain": [
              "['flight_price_model.pkl']"
            ]
          },
          "metadata": {},
          "execution_count": 33
        }
      ]
    },
    {
      "cell_type": "code",
      "source": [
        "# prompt: save to drive\n",
        "\n",
        "import joblib\n",
        "from google.colab import drive\n",
        "drive.mount('/content/drive')\n",
        "joblib.dump(model, '/content/drive/MyDrive/flight_price_model.pkl')"
      ],
      "metadata": {
        "colab": {
          "base_uri": "https://localhost:8080/"
        },
        "id": "JIRRUiDxdS3C",
        "outputId": "0a614b94-4c06-44b9-c72e-dcb58ede1ef6"
      },
      "execution_count": 36,
      "outputs": [
        {
          "output_type": "stream",
          "name": "stdout",
          "text": [
            "Drive already mounted at /content/drive; to attempt to forcibly remount, call drive.mount(\"/content/drive\", force_remount=True).\n"
          ]
        },
        {
          "output_type": "execute_result",
          "data": {
            "text/plain": [
              "['/content/drive/MyDrive/flight_price_model.pkl']"
            ]
          },
          "metadata": {},
          "execution_count": 36
        }
      ]
    }
  ]
}